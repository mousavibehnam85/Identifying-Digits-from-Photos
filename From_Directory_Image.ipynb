{
 "cells": [
  {
   "cell_type": "code",
   "execution_count": 1,
   "id": "03e7768d-bad5-4fb3-81cc-b8ebc99eadb4",
   "metadata": {},
   "outputs": [
    {
     "name": "stderr",
     "output_type": "stream",
     "text": [
      "2024-01-25 18:34:23.940325: I tensorflow/core/platform/cpu_feature_guard.cc:182] This TensorFlow binary is optimized to use available CPU instructions in performance-critical operations.\n",
      "To enable the following instructions: AVX2 FMA, in other operations, rebuild TensorFlow with the appropriate compiler flags.\n"
     ]
    },
    {
     "name": "stdout",
     "output_type": "stream",
     "text": [
      "Epoch 1/10\n",
      "1500/1500 [==============================] - 23s 14ms/step - loss: 0.1665 - accuracy: 0.9478 - val_loss: 0.0612 - val_accuracy: 0.9797\n",
      "Epoch 2/10\n",
      "1500/1500 [==============================] - 22s 15ms/step - loss: 0.0499 - accuracy: 0.9845 - val_loss: 0.0473 - val_accuracy: 0.9856\n",
      "Epoch 3/10\n",
      "1500/1500 [==============================] - 23s 15ms/step - loss: 0.0362 - accuracy: 0.9889 - val_loss: 0.0428 - val_accuracy: 0.9868\n",
      "Epoch 4/10\n",
      "1500/1500 [==============================] - 22s 15ms/step - loss: 0.0267 - accuracy: 0.9915 - val_loss: 0.0345 - val_accuracy: 0.9906\n",
      "Epoch 5/10\n",
      "1500/1500 [==============================] - 23s 15ms/step - loss: 0.0210 - accuracy: 0.9932 - val_loss: 0.0541 - val_accuracy: 0.9868\n",
      "Epoch 6/10\n",
      "1500/1500 [==============================] - 22s 15ms/step - loss: 0.0182 - accuracy: 0.9941 - val_loss: 0.0343 - val_accuracy: 0.9909\n",
      "Epoch 7/10\n",
      "1500/1500 [==============================] - 23s 15ms/step - loss: 0.0152 - accuracy: 0.9950 - val_loss: 0.0416 - val_accuracy: 0.9894\n",
      "Epoch 8/10\n",
      "1500/1500 [==============================] - 23s 15ms/step - loss: 0.0118 - accuracy: 0.9963 - val_loss: 0.0369 - val_accuracy: 0.9899\n",
      "Epoch 9/10\n",
      "1500/1500 [==============================] - 22s 15ms/step - loss: 0.0104 - accuracy: 0.9968 - val_loss: 0.0394 - val_accuracy: 0.9905\n",
      "Epoch 10/10\n",
      "1500/1500 [==============================] - 22s 15ms/step - loss: 0.0097 - accuracy: 0.9969 - val_loss: 0.0387 - val_accuracy: 0.9908\n"
     ]
    },
    {
     "data": {
      "text/plain": [
       "<keras.src.callbacks.History at 0x16b9e0df0>"
      ]
     },
     "execution_count": 1,
     "metadata": {},
     "output_type": "execute_result"
    }
   ],
   "source": [
    "import numpy as np\n",
    "from PIL import Image\n",
    "import tensorflow as tf\n",
    "from tensorflow.keras import layers, models\n",
    "from tensorflow.keras.datasets import mnist\n",
    "from tensorflow.keras.utils import to_categorical\n",
    "from sklearn.model_selection import train_test_split\n",
    "\n",
    "\n",
    "# Load MNIST data\n",
    "(train_images, train_labels), (test_images, test_labels) = mnist.load_data()\n",
    "\n",
    "# Preprocess MNIST data\n",
    "train_images = train_images.reshape((60000, 28, 28, 1)).astype('float32') / 255.0\n",
    "test_images = test_images.reshape((10000, 28, 28, 1)).astype('float32') / 255.0\n",
    "train_labels = to_categorical(train_labels)\n",
    "test_labels = to_categorical(test_labels)\n",
    "\n",
    "# Split into training and validation sets\n",
    "train_images, val_images, train_labels, val_labels = train_test_split(train_images, train_labels, test_size=0.2, random_state=42)\n",
    "\n",
    "# Model definition\n",
    "model = models.Sequential([\n",
    "    layers.Conv2D(32, (3, 3), activation='relu', input_shape=(28, 28, 1)),\n",
    "    layers.MaxPooling2D((2, 2)),\n",
    "    layers.Conv2D(64, (3, 3), activation='relu'),\n",
    "    layers.MaxPooling2D((2, 2)),\n",
    "    layers.Conv2D(64, (3, 3), activation='relu'),\n",
    "    layers.Flatten(),\n",
    "    layers.Dense(64, activation='relu'),\n",
    "    layers.Dense(10, activation='softmax')\n",
    "])\n",
    "\n",
    "model.compile(optimizer='adam', loss='categorical_crossentropy', metrics=['accuracy'])\n",
    "\n",
    "# Train the model\n",
    "model.fit(train_images, train_labels, epochs=10, validation_data=(val_images, val_labels))\n",
    "\n",
    "# Save the model\n",
    "# model.save('/Users/behnam/python-projects/Neural Network/Computer Vision/Image Classification/Model_Fitting')\n"
   ]
  },
  {
   "cell_type": "code",
   "execution_count": 13,
   "id": "5bdad5ef-d0f2-4853-a234-2dc4e2891a83",
   "metadata": {},
   "outputs": [
    {
     "name": "stdout",
     "output_type": "stream",
     "text": [
      "1/1 [==============================] - 0s 22ms/step\n",
      "The image is predicted to be a '8'.\n"
     ]
    }
   ],
   "source": [
    "# Assuming you have an image in a directory for prediction\n",
    "image_path = '/Users/behnam/python-projects/Neural Network/Computer Vision/Image Classification/Image_of_handwriting/Image7.png'  # Update with your actual image path\n",
    "\n",
    "def preprocess_image(file_path):\n",
    "    # Image preprocessing to match the MNIST training data\n",
    "    img = Image.open(file_path).convert('L')\n",
    "    img_resized = img.resize((28, 28))\n",
    "    img_array = np.array(img_resized).astype('float32') / 255.0\n",
    "    img_array = img_array.reshape((1, 28, 28, 1))\n",
    "    return img_array\n",
    "\n",
    "def predict_image(img_array):\n",
    "    # Predict the class of the image\n",
    "    prediction = model.predict(img_array)\n",
    "    return np.argmax(prediction)\n",
    "\n",
    "# Preprocess the image\n",
    "img_array = preprocess_image(image_path)\n",
    "\n",
    "# Predict the digit\n",
    "predicted_digit = predict_image(img_array)\n",
    "\n",
    "print(f\"The image is predicted to be a '{predicted_digit}'.\")"
   ]
  },
  {
   "cell_type": "code",
   "execution_count": 23,
   "id": "442dd509-64a8-4177-a5ed-4ae37042389d",
   "metadata": {},
   "outputs": [
    {
     "data": {
      "image/png": "[encoded data removed]",
      "text/plain": [
       "<Figure size 640x480 with 1 Axes>"
      ]
     },
     "metadata": {},
     "output_type": "display_data"
    }
   ],
   "source": [
    "import matplotlib.pyplot as plt \n",
    "\n",
    "# Load MNIST data\n",
    "(train_images, train_labels), _ = mnist.load_data()\n",
    "\n",
    "# Define the index of the image you want to view\n",
    "index = 2  # For example, to view the first image in the dataset\n",
    "\n",
    "# Display the image at the specified index\n",
    "plt.imshow(train_images[index], cmap='gray')\n",
    "plt.title(f'Label: {train_labels[index]}')\n",
    "plt.show()\n",
    "\n",
    "# If you need to preprocess the image for prediction, make sure to squeeze the unnecessary dimensions\n",
    "#img_array = train_images[index].reshape(1, 28, 28, 1)  # Add batch dimension for model prediction\n",
    "# When displaying this image, you should remove the batch dimension and channel dimension\n",
    "#plt.imshow(img_array.squeeze(), cmap='gray')  # Use .squeeze() to remove single-dimensional entries\n",
    "#plt.title(f'Label: {train_labels[index]}')\n",
    "#plt.show()"
   ]
  },
  {
   "cell_type": "code",
   "execution_count": null,
   "id": "3ca81696-2266-4dee-93cd-f5f61b4a8ddb",
   "metadata": {},
   "outputs": [],
   "source": []
  }
 ],
 "metadata": {
  "kernelspec": {
   "display_name": "Python 3.9",
   "language": "python",
   "name": "python3.9"
  },
  "language_info": {
   "codemirror_mode": {
    "name": "ipython",
    "version": 3
   },
   "file_extension": ".py",
   "mimetype": "text/x-python",
   "name": "python",
   "nbconvert_exporter": "python",
   "pygments_lexer": "ipython3",
   "version": "3.9.18"
  }
 },
 "nbformat": 4,
 "nbformat_minor": 5
}
